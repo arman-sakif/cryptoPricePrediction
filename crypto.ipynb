{
 "cells": [
  {
   "cell_type": "markdown",
   "id": "78d6d90b",
   "metadata": {},
   "source": [
    "# imports"
   ]
  },
  {
   "cell_type": "code",
   "execution_count": 1,
   "id": "090b0aba",
   "metadata": {},
   "outputs": [],
   "source": [
    "import pandas as pd\n",
    "import numpy as np"
   ]
  },
  {
   "cell_type": "code",
   "execution_count": 2,
   "id": "0e9aff18",
   "metadata": {},
   "outputs": [],
   "source": [
    "from sklearn.model_selection import train_test_split\n",
    "from sklearn.linear_model import LinearRegression\n",
    "from sklearn.metrics import mean_squared_error"
   ]
  },
  {
   "cell_type": "markdown",
   "id": "43ddd6f2",
   "metadata": {},
   "source": [
    "# load"
   ]
  },
  {
   "cell_type": "code",
   "execution_count": 3,
   "id": "519d3ca5",
   "metadata": {},
   "outputs": [],
   "source": [
    "df = pd.read_csv('datasets/crypto/coinmarke_bitcoin_365d_2024-Jun-6.csv', delimiter=';')\n",
    "# df = pd.read_csv('datasets/FinalBalancedDataset.csv')"
   ]
  },
  {
   "cell_type": "code",
   "execution_count": 4,
   "id": "abe9832b",
   "metadata": {},
   "outputs": [
    {
     "data": {
      "text/plain": [
       "(364, 12)"
      ]
     },
     "execution_count": 4,
     "metadata": {},
     "output_type": "execute_result"
    }
   ],
   "source": [
    "df.shape"
   ]
  },
  {
   "cell_type": "code",
   "execution_count": 6,
   "id": "81be2aa3",
   "metadata": {},
   "outputs": [
    {
     "data": {
      "text/html": [
       "<div>\n",
       "<style scoped>\n",
       "    .dataframe tbody tr th:only-of-type {\n",
       "        vertical-align: middle;\n",
       "    }\n",
       "\n",
       "    .dataframe tbody tr th {\n",
       "        vertical-align: top;\n",
       "    }\n",
       "\n",
       "    .dataframe thead th {\n",
       "        text-align: right;\n",
       "    }\n",
       "</style>\n",
       "<table border=\"1\" class=\"dataframe\">\n",
       "  <thead>\n",
       "    <tr style=\"text-align: right;\">\n",
       "      <th></th>\n",
       "      <th>timeOpen</th>\n",
       "      <th>timeClose</th>\n",
       "      <th>timeHigh</th>\n",
       "      <th>timeLow</th>\n",
       "      <th>name</th>\n",
       "      <th>open</th>\n",
       "      <th>high</th>\n",
       "      <th>low</th>\n",
       "      <th>close</th>\n",
       "      <th>volume</th>\n",
       "      <th>marketCap</th>\n",
       "      <th>timestamp</th>\n",
       "    </tr>\n",
       "  </thead>\n",
       "  <tbody>\n",
       "    <tr>\n",
       "      <th>0</th>\n",
       "      <td>2024-06-06T00:00:00.000Z</td>\n",
       "      <td>2024-06-06T23:59:59.999Z</td>\n",
       "      <td>2024-06-06T15:29:00.000Z</td>\n",
       "      <td>2024-06-06T20:03:00.000Z</td>\n",
       "      <td>2781</td>\n",
       "      <td>71082.840431</td>\n",
       "      <td>71625.737249</td>\n",
       "      <td>70119.123034</td>\n",
       "      <td>70757.165852</td>\n",
       "      <td>2.522315e+10</td>\n",
       "      <td>1.394552e+12</td>\n",
       "      <td>2024-06-06T23:59:59.999Z</td>\n",
       "    </tr>\n",
       "    <tr>\n",
       "      <th>1</th>\n",
       "      <td>2024-06-05T00:00:00.000Z</td>\n",
       "      <td>2024-06-05T23:59:59.999Z</td>\n",
       "      <td>2024-06-05T16:15:00.000Z</td>\n",
       "      <td>2024-06-05T14:17:00.000Z</td>\n",
       "      <td>2781</td>\n",
       "      <td>70568.350292</td>\n",
       "      <td>71735.410980</td>\n",
       "      <td>70390.712691</td>\n",
       "      <td>71082.822704</td>\n",
       "      <td>3.281077e+10</td>\n",
       "      <td>1.400901e+12</td>\n",
       "      <td>2024-06-05T23:59:59.999Z</td>\n",
       "    </tr>\n",
       "    <tr>\n",
       "      <th>2</th>\n",
       "      <td>2024-06-04T00:00:00.000Z</td>\n",
       "      <td>2024-06-04T23:59:59.999Z</td>\n",
       "      <td>2024-06-04T18:26:00.000Z</td>\n",
       "      <td>2024-06-04T09:54:00.000Z</td>\n",
       "      <td>2781</td>\n",
       "      <td>68804.567223</td>\n",
       "      <td>71047.406014</td>\n",
       "      <td>68564.643221</td>\n",
       "      <td>70567.768904</td>\n",
       "      <td>3.314970e+10</td>\n",
       "      <td>1.390744e+12</td>\n",
       "      <td>2024-06-04T23:59:59.999Z</td>\n",
       "    </tr>\n",
       "    <tr>\n",
       "      <th>3</th>\n",
       "      <td>2024-06-03T00:00:00.000Z</td>\n",
       "      <td>2024-06-03T23:59:59.999Z</td>\n",
       "      <td>2024-06-03T13:50:00.000Z</td>\n",
       "      <td>2024-06-03T00:39:00.000Z</td>\n",
       "      <td>2781</td>\n",
       "      <td>67753.895414</td>\n",
       "      <td>70230.820850</td>\n",
       "      <td>67589.836415</td>\n",
       "      <td>68804.780085</td>\n",
       "      <td>3.240129e+10</td>\n",
       "      <td>1.355956e+12</td>\n",
       "      <td>2024-06-03T23:59:59.999Z</td>\n",
       "    </tr>\n",
       "    <tr>\n",
       "      <th>4</th>\n",
       "      <td>2024-06-02T00:00:00.000Z</td>\n",
       "      <td>2024-06-02T23:59:59.999Z</td>\n",
       "      <td>2024-06-02T14:35:00.000Z</td>\n",
       "      <td>2024-06-02T19:19:00.000Z</td>\n",
       "      <td>2781</td>\n",
       "      <td>67710.270892</td>\n",
       "      <td>68409.165830</td>\n",
       "      <td>67315.526314</td>\n",
       "      <td>67751.602575</td>\n",
       "      <td>1.711059e+10</td>\n",
       "      <td>1.335228e+12</td>\n",
       "      <td>2024-06-02T23:59:59.999Z</td>\n",
       "    </tr>\n",
       "  </tbody>\n",
       "</table>\n",
       "</div>"
      ],
      "text/plain": [
       "                   timeOpen                 timeClose  \\\n",
       "0  2024-06-06T00:00:00.000Z  2024-06-06T23:59:59.999Z   \n",
       "1  2024-06-05T00:00:00.000Z  2024-06-05T23:59:59.999Z   \n",
       "2  2024-06-04T00:00:00.000Z  2024-06-04T23:59:59.999Z   \n",
       "3  2024-06-03T00:00:00.000Z  2024-06-03T23:59:59.999Z   \n",
       "4  2024-06-02T00:00:00.000Z  2024-06-02T23:59:59.999Z   \n",
       "\n",
       "                   timeHigh                   timeLow  name          open  \\\n",
       "0  2024-06-06T15:29:00.000Z  2024-06-06T20:03:00.000Z  2781  71082.840431   \n",
       "1  2024-06-05T16:15:00.000Z  2024-06-05T14:17:00.000Z  2781  70568.350292   \n",
       "2  2024-06-04T18:26:00.000Z  2024-06-04T09:54:00.000Z  2781  68804.567223   \n",
       "3  2024-06-03T13:50:00.000Z  2024-06-03T00:39:00.000Z  2781  67753.895414   \n",
       "4  2024-06-02T14:35:00.000Z  2024-06-02T19:19:00.000Z  2781  67710.270892   \n",
       "\n",
       "           high           low         close        volume     marketCap  \\\n",
       "0  71625.737249  70119.123034  70757.165852  2.522315e+10  1.394552e+12   \n",
       "1  71735.410980  70390.712691  71082.822704  3.281077e+10  1.400901e+12   \n",
       "2  71047.406014  68564.643221  70567.768904  3.314970e+10  1.390744e+12   \n",
       "3  70230.820850  67589.836415  68804.780085  3.240129e+10  1.355956e+12   \n",
       "4  68409.165830  67315.526314  67751.602575  1.711059e+10  1.335228e+12   \n",
       "\n",
       "                  timestamp  \n",
       "0  2024-06-06T23:59:59.999Z  \n",
       "1  2024-06-05T23:59:59.999Z  \n",
       "2  2024-06-04T23:59:59.999Z  \n",
       "3  2024-06-03T23:59:59.999Z  \n",
       "4  2024-06-02T23:59:59.999Z  "
      ]
     },
     "execution_count": 6,
     "metadata": {},
     "output_type": "execute_result"
    }
   ],
   "source": [
    "df.head()"
   ]
  },
  {
   "cell_type": "code",
   "execution_count": 30,
   "id": "907646b7",
   "metadata": {},
   "outputs": [
    {
     "data": {
      "text/plain": [
       "'2024-06-06T23:59:59.999Z'"
      ]
     },
     "execution_count": 30,
     "metadata": {},
     "output_type": "execute_result"
    }
   ],
   "source": [
    "df['timestamp'][0]"
   ]
  },
  {
   "cell_type": "code",
   "execution_count": 7,
   "id": "55535e77",
   "metadata": {
    "scrolled": true
   },
   "outputs": [
    {
     "data": {
      "text/plain": [
       "0      2024-06-06\n",
       "1      2024-06-05\n",
       "2      2024-06-04\n",
       "3      2024-06-03\n",
       "4      2024-06-02\n",
       "          ...    \n",
       "359    2023-06-13\n",
       "360    2023-06-12\n",
       "361    2023-06-11\n",
       "362    2023-06-10\n",
       "363    2023-06-09\n",
       "Name: date, Length: 364, dtype: object"
      ]
     },
     "execution_count": 7,
     "metadata": {},
     "output_type": "execute_result"
    }
   ],
   "source": [
    "# Convert the 'timestamp' column to datetime and extract the date\n",
    "df['date'] = pd.to_datetime(df['timestamp']).dt.date\n",
    "df['date']"
   ]
  },
  {
   "cell_type": "markdown",
   "id": "c9c2a1e8",
   "metadata": {},
   "source": [
    "The ordinal number for a date is the number of days since a fixed reference date, which in the case of Python's datetime module is January 1, 1. This method allows us to convert dates into a numerical format that can be used in mathematical calculations or machine learning algorithms."
   ]
  },
  {
   "cell_type": "code",
   "execution_count": 8,
   "id": "74270377",
   "metadata": {},
   "outputs": [],
   "source": [
    "# Convert the date to an ordinal number\n",
    "df['date_ordinal'] = df['date'].apply(lambda x: x.toordinal())"
   ]
  },
  {
   "cell_type": "code",
   "execution_count": 9,
   "id": "788aafa7",
   "metadata": {},
   "outputs": [
    {
     "data": {
      "text/plain": [
       "0    739043\n",
       "1    739042\n",
       "2    739041\n",
       "3    739040\n",
       "4    739039\n",
       "Name: date_ordinal, dtype: int64"
      ]
     },
     "execution_count": 9,
     "metadata": {},
     "output_type": "execute_result"
    }
   ],
   "source": [
    "df['date_ordinal'].head()"
   ]
  },
  {
   "cell_type": "code",
   "execution_count": 10,
   "id": "45bfe192",
   "metadata": {
    "scrolled": true
   },
   "outputs": [
    {
     "data": {
      "text/html": [
       "<div>\n",
       "<style scoped>\n",
       "    .dataframe tbody tr th:only-of-type {\n",
       "        vertical-align: middle;\n",
       "    }\n",
       "\n",
       "    .dataframe tbody tr th {\n",
       "        vertical-align: top;\n",
       "    }\n",
       "\n",
       "    .dataframe thead th {\n",
       "        text-align: right;\n",
       "    }\n",
       "</style>\n",
       "<table border=\"1\" class=\"dataframe\">\n",
       "  <thead>\n",
       "    <tr style=\"text-align: right;\">\n",
       "      <th></th>\n",
       "      <th>timeHigh</th>\n",
       "      <th>timeLow</th>\n",
       "      <th>open</th>\n",
       "      <th>high</th>\n",
       "      <th>low</th>\n",
       "      <th>close</th>\n",
       "      <th>volume</th>\n",
       "      <th>marketCap</th>\n",
       "      <th>date</th>\n",
       "      <th>date_ordinal</th>\n",
       "    </tr>\n",
       "  </thead>\n",
       "  <tbody>\n",
       "    <tr>\n",
       "      <th>0</th>\n",
       "      <td>2024-06-06T15:29:00.000Z</td>\n",
       "      <td>2024-06-06T20:03:00.000Z</td>\n",
       "      <td>71082.840431</td>\n",
       "      <td>71625.737249</td>\n",
       "      <td>70119.123034</td>\n",
       "      <td>70757.165852</td>\n",
       "      <td>2.522315e+10</td>\n",
       "      <td>1.394552e+12</td>\n",
       "      <td>2024-06-06</td>\n",
       "      <td>739043</td>\n",
       "    </tr>\n",
       "    <tr>\n",
       "      <th>1</th>\n",
       "      <td>2024-06-05T16:15:00.000Z</td>\n",
       "      <td>2024-06-05T14:17:00.000Z</td>\n",
       "      <td>70568.350292</td>\n",
       "      <td>71735.410980</td>\n",
       "      <td>70390.712691</td>\n",
       "      <td>71082.822704</td>\n",
       "      <td>3.281077e+10</td>\n",
       "      <td>1.400901e+12</td>\n",
       "      <td>2024-06-05</td>\n",
       "      <td>739042</td>\n",
       "    </tr>\n",
       "  </tbody>\n",
       "</table>\n",
       "</div>"
      ],
      "text/plain": [
       "                   timeHigh                   timeLow          open  \\\n",
       "0  2024-06-06T15:29:00.000Z  2024-06-06T20:03:00.000Z  71082.840431   \n",
       "1  2024-06-05T16:15:00.000Z  2024-06-05T14:17:00.000Z  70568.350292   \n",
       "\n",
       "           high           low         close        volume     marketCap  \\\n",
       "0  71625.737249  70119.123034  70757.165852  2.522315e+10  1.394552e+12   \n",
       "1  71735.410980  70390.712691  71082.822704  3.281077e+10  1.400901e+12   \n",
       "\n",
       "         date  date_ordinal  \n",
       "0  2024-06-06        739043  \n",
       "1  2024-06-05        739042  "
      ]
     },
     "execution_count": 10,
     "metadata": {},
     "output_type": "execute_result"
    }
   ],
   "source": [
    "df.drop(columns=['timeOpen', 'timeClose', 'timestamp', 'name'], inplace=True)\n",
    "df.head(2)"
   ]
  },
  {
   "cell_type": "code",
   "execution_count": 11,
   "id": "93112a56",
   "metadata": {},
   "outputs": [
    {
     "data": {
      "text/html": [
       "<div>\n",
       "<style scoped>\n",
       "    .dataframe tbody tr th:only-of-type {\n",
       "        vertical-align: middle;\n",
       "    }\n",
       "\n",
       "    .dataframe tbody tr th {\n",
       "        vertical-align: top;\n",
       "    }\n",
       "\n",
       "    .dataframe thead th {\n",
       "        text-align: right;\n",
       "    }\n",
       "</style>\n",
       "<table border=\"1\" class=\"dataframe\">\n",
       "  <thead>\n",
       "    <tr style=\"text-align: right;\">\n",
       "      <th></th>\n",
       "      <th>date_ordinal</th>\n",
       "      <th>open</th>\n",
       "      <th>low</th>\n",
       "      <th>close</th>\n",
       "      <th>volume</th>\n",
       "      <th>marketCap</th>\n",
       "      <th>high</th>\n",
       "    </tr>\n",
       "  </thead>\n",
       "  <tbody>\n",
       "    <tr>\n",
       "      <th>0</th>\n",
       "      <td>739043</td>\n",
       "      <td>71082.840431</td>\n",
       "      <td>70119.123034</td>\n",
       "      <td>70757.165852</td>\n",
       "      <td>2.522315e+10</td>\n",
       "      <td>1.394552e+12</td>\n",
       "      <td>71625.737249</td>\n",
       "    </tr>\n",
       "    <tr>\n",
       "      <th>1</th>\n",
       "      <td>739042</td>\n",
       "      <td>70568.350292</td>\n",
       "      <td>70390.712691</td>\n",
       "      <td>71082.822704</td>\n",
       "      <td>3.281077e+10</td>\n",
       "      <td>1.400901e+12</td>\n",
       "      <td>71735.410980</td>\n",
       "    </tr>\n",
       "    <tr>\n",
       "      <th>2</th>\n",
       "      <td>739041</td>\n",
       "      <td>68804.567223</td>\n",
       "      <td>68564.643221</td>\n",
       "      <td>70567.768904</td>\n",
       "      <td>3.314970e+10</td>\n",
       "      <td>1.390744e+12</td>\n",
       "      <td>71047.406014</td>\n",
       "    </tr>\n",
       "  </tbody>\n",
       "</table>\n",
       "</div>"
      ],
      "text/plain": [
       "   date_ordinal          open           low         close        volume  \\\n",
       "0        739043  71082.840431  70119.123034  70757.165852  2.522315e+10   \n",
       "1        739042  70568.350292  70390.712691  71082.822704  3.281077e+10   \n",
       "2        739041  68804.567223  68564.643221  70567.768904  3.314970e+10   \n",
       "\n",
       "      marketCap          high  \n",
       "0  1.394552e+12  71625.737249  \n",
       "1  1.400901e+12  71735.410980  \n",
       "2  1.390744e+12  71047.406014  "
      ]
     },
     "execution_count": 11,
     "metadata": {},
     "output_type": "execute_result"
    }
   ],
   "source": [
    "df_high = df[['date_ordinal', 'open', 'low', 'close', 'volume', 'marketCap', 'high']]\n",
    "df_high.head(3)"
   ]
  },
  {
   "cell_type": "code",
   "execution_count": 12,
   "id": "bcc20712",
   "metadata": {
    "scrolled": true
   },
   "outputs": [
    {
     "data": {
      "text/html": [
       "<div>\n",
       "<style scoped>\n",
       "    .dataframe tbody tr th:only-of-type {\n",
       "        vertical-align: middle;\n",
       "    }\n",
       "\n",
       "    .dataframe tbody tr th {\n",
       "        vertical-align: top;\n",
       "    }\n",
       "\n",
       "    .dataframe thead th {\n",
       "        text-align: right;\n",
       "    }\n",
       "</style>\n",
       "<table border=\"1\" class=\"dataframe\">\n",
       "  <thead>\n",
       "    <tr style=\"text-align: right;\">\n",
       "      <th></th>\n",
       "      <th>date_ordinal</th>\n",
       "      <th>open</th>\n",
       "      <th>high</th>\n",
       "      <th>close</th>\n",
       "      <th>volume</th>\n",
       "      <th>marketCap</th>\n",
       "      <th>low</th>\n",
       "    </tr>\n",
       "  </thead>\n",
       "  <tbody>\n",
       "    <tr>\n",
       "      <th>0</th>\n",
       "      <td>739043</td>\n",
       "      <td>71082.840431</td>\n",
       "      <td>71625.737249</td>\n",
       "      <td>70757.165852</td>\n",
       "      <td>2.522315e+10</td>\n",
       "      <td>1.394552e+12</td>\n",
       "      <td>70119.123034</td>\n",
       "    </tr>\n",
       "    <tr>\n",
       "      <th>1</th>\n",
       "      <td>739042</td>\n",
       "      <td>70568.350292</td>\n",
       "      <td>71735.410980</td>\n",
       "      <td>71082.822704</td>\n",
       "      <td>3.281077e+10</td>\n",
       "      <td>1.400901e+12</td>\n",
       "      <td>70390.712691</td>\n",
       "    </tr>\n",
       "    <tr>\n",
       "      <th>2</th>\n",
       "      <td>739041</td>\n",
       "      <td>68804.567223</td>\n",
       "      <td>71047.406014</td>\n",
       "      <td>70567.768904</td>\n",
       "      <td>3.314970e+10</td>\n",
       "      <td>1.390744e+12</td>\n",
       "      <td>68564.643221</td>\n",
       "    </tr>\n",
       "  </tbody>\n",
       "</table>\n",
       "</div>"
      ],
      "text/plain": [
       "   date_ordinal          open          high         close        volume  \\\n",
       "0        739043  71082.840431  71625.737249  70757.165852  2.522315e+10   \n",
       "1        739042  70568.350292  71735.410980  71082.822704  3.281077e+10   \n",
       "2        739041  68804.567223  71047.406014  70567.768904  3.314970e+10   \n",
       "\n",
       "      marketCap           low  \n",
       "0  1.394552e+12  70119.123034  \n",
       "1  1.400901e+12  70390.712691  \n",
       "2  1.390744e+12  68564.643221  "
      ]
     },
     "execution_count": 12,
     "metadata": {},
     "output_type": "execute_result"
    }
   ],
   "source": [
    "df_low = df[['date_ordinal', 'open', 'high', 'close', 'volume', 'marketCap', 'low']]\n",
    "df_low.head(3)"
   ]
  },
  {
   "cell_type": "markdown",
   "id": "436d05df",
   "metadata": {},
   "source": [
    "# Linear Regression model to predict High"
   ]
  },
  {
   "cell_type": "code",
   "execution_count": 13,
   "id": "2bc48bb1",
   "metadata": {},
   "outputs": [],
   "source": [
    "X = df[['date_ordinal', 'open', 'low', 'close', 'volume', 'marketCap']]\n",
    "y = df['high']"
   ]
  },
  {
   "cell_type": "code",
   "execution_count": 14,
   "id": "7a8bf79a",
   "metadata": {},
   "outputs": [],
   "source": [
    "X_train, X_test, y_train, y_test = train_test_split(X, y, test_size=0.15, random_state=42) #85 percent training"
   ]
  },
  {
   "cell_type": "code",
   "execution_count": 15,
   "id": "71ad44cb",
   "metadata": {},
   "outputs": [
    {
     "data": {
      "text/html": [
       "<style>#sk-container-id-1 {color: black;background-color: white;}#sk-container-id-1 pre{padding: 0;}#sk-container-id-1 div.sk-toggleable {background-color: white;}#sk-container-id-1 label.sk-toggleable__label {cursor: pointer;display: block;width: 100%;margin-bottom: 0;padding: 0.3em;box-sizing: border-box;text-align: center;}#sk-container-id-1 label.sk-toggleable__label-arrow:before {content: \"▸\";float: left;margin-right: 0.25em;color: #696969;}#sk-container-id-1 label.sk-toggleable__label-arrow:hover:before {color: black;}#sk-container-id-1 div.sk-estimator:hover label.sk-toggleable__label-arrow:before {color: black;}#sk-container-id-1 div.sk-toggleable__content {max-height: 0;max-width: 0;overflow: hidden;text-align: left;background-color: #f0f8ff;}#sk-container-id-1 div.sk-toggleable__content pre {margin: 0.2em;color: black;border-radius: 0.25em;background-color: #f0f8ff;}#sk-container-id-1 input.sk-toggleable__control:checked~div.sk-toggleable__content {max-height: 200px;max-width: 100%;overflow: auto;}#sk-container-id-1 input.sk-toggleable__control:checked~label.sk-toggleable__label-arrow:before {content: \"▾\";}#sk-container-id-1 div.sk-estimator input.sk-toggleable__control:checked~label.sk-toggleable__label {background-color: #d4ebff;}#sk-container-id-1 div.sk-label input.sk-toggleable__control:checked~label.sk-toggleable__label {background-color: #d4ebff;}#sk-container-id-1 input.sk-hidden--visually {border: 0;clip: rect(1px 1px 1px 1px);clip: rect(1px, 1px, 1px, 1px);height: 1px;margin: -1px;overflow: hidden;padding: 0;position: absolute;width: 1px;}#sk-container-id-1 div.sk-estimator {font-family: monospace;background-color: #f0f8ff;border: 1px dotted black;border-radius: 0.25em;box-sizing: border-box;margin-bottom: 0.5em;}#sk-container-id-1 div.sk-estimator:hover {background-color: #d4ebff;}#sk-container-id-1 div.sk-parallel-item::after {content: \"\";width: 100%;border-bottom: 1px solid gray;flex-grow: 1;}#sk-container-id-1 div.sk-label:hover label.sk-toggleable__label {background-color: #d4ebff;}#sk-container-id-1 div.sk-serial::before {content: \"\";position: absolute;border-left: 1px solid gray;box-sizing: border-box;top: 0;bottom: 0;left: 50%;z-index: 0;}#sk-container-id-1 div.sk-serial {display: flex;flex-direction: column;align-items: center;background-color: white;padding-right: 0.2em;padding-left: 0.2em;position: relative;}#sk-container-id-1 div.sk-item {position: relative;z-index: 1;}#sk-container-id-1 div.sk-parallel {display: flex;align-items: stretch;justify-content: center;background-color: white;position: relative;}#sk-container-id-1 div.sk-item::before, #sk-container-id-1 div.sk-parallel-item::before {content: \"\";position: absolute;border-left: 1px solid gray;box-sizing: border-box;top: 0;bottom: 0;left: 50%;z-index: -1;}#sk-container-id-1 div.sk-parallel-item {display: flex;flex-direction: column;z-index: 1;position: relative;background-color: white;}#sk-container-id-1 div.sk-parallel-item:first-child::after {align-self: flex-end;width: 50%;}#sk-container-id-1 div.sk-parallel-item:last-child::after {align-self: flex-start;width: 50%;}#sk-container-id-1 div.sk-parallel-item:only-child::after {width: 0;}#sk-container-id-1 div.sk-dashed-wrapped {border: 1px dashed gray;margin: 0 0.4em 0.5em 0.4em;box-sizing: border-box;padding-bottom: 0.4em;background-color: white;}#sk-container-id-1 div.sk-label label {font-family: monospace;font-weight: bold;display: inline-block;line-height: 1.2em;}#sk-container-id-1 div.sk-label-container {text-align: center;}#sk-container-id-1 div.sk-container {/* jupyter's `normalize.less` sets `[hidden] { display: none; }` but bootstrap.min.css set `[hidden] { display: none !important; }` so we also need the `!important` here to be able to override the default hidden behavior on the sphinx rendered scikit-learn.org. See: https://github.com/scikit-learn/scikit-learn/issues/21755 */display: inline-block !important;position: relative;}#sk-container-id-1 div.sk-text-repr-fallback {display: none;}</style><div id=\"sk-container-id-1\" class=\"sk-top-container\"><div class=\"sk-text-repr-fallback\"><pre>LinearRegression()</pre><b>In a Jupyter environment, please rerun this cell to show the HTML representation or trust the notebook. <br />On GitHub, the HTML representation is unable to render, please try loading this page with nbviewer.org.</b></div><div class=\"sk-container\" hidden><div class=\"sk-item\"><div class=\"sk-estimator sk-toggleable\"><input class=\"sk-toggleable__control sk-hidden--visually\" id=\"sk-estimator-id-1\" type=\"checkbox\" checked><label for=\"sk-estimator-id-1\" class=\"sk-toggleable__label sk-toggleable__label-arrow\">LinearRegression</label><div class=\"sk-toggleable__content\"><pre>LinearRegression()</pre></div></div></div></div></div>"
      ],
      "text/plain": [
       "LinearRegression()"
      ]
     },
     "execution_count": 15,
     "metadata": {},
     "output_type": "execute_result"
    }
   ],
   "source": [
    "model = LinearRegression()\n",
    "model.fit(X_train, y_train)"
   ]
  },
  {
   "cell_type": "markdown",
   "id": "04037ca7",
   "metadata": {},
   "source": [
    "## predict and evaluate"
   ]
  },
  {
   "cell_type": "code",
   "execution_count": 16,
   "id": "67f2884e",
   "metadata": {},
   "outputs": [],
   "source": [
    "# Make predictions\n",
    "y_pred = model.predict(X_test)"
   ]
  },
  {
   "cell_type": "code",
   "execution_count": 17,
   "id": "0a45e554",
   "metadata": {},
   "outputs": [
    {
     "name": "stdout",
     "output_type": "stream",
     "text": [
      "Mean Squared Error: 133673.92608235386\n",
      "Model Coefficients: [-1.79964776e+00  4.61918195e-01 -6.71807714e-02 -1.25683958e+00\n",
      "  3.50414253e-08  9.46208723e-08]\n",
      "Model Intercept: 1329937.3893956975\n"
     ]
    }
   ],
   "source": [
    "# Evaluate the model\n",
    "mse = mean_squared_error(y_test, y_pred)\n",
    "print(f\"Mean Squared Error: {mse}\")\n",
    "\n",
    "# Print out the model coefficients\n",
    "print(\"Model Coefficients:\", model.coef_)\n",
    "print(\"Model Intercept:\", model.intercept_)"
   ]
  },
  {
   "cell_type": "markdown",
   "id": "0898d2e2",
   "metadata": {},
   "source": [
    "## predict a single date "
   ]
  },
  {
   "cell_type": "code",
   "execution_count": 19,
   "id": "fae00250",
   "metadata": {},
   "outputs": [],
   "source": [
    "from datetime import datetime, timedelta"
   ]
  },
  {
   "cell_type": "code",
   "execution_count": 20,
   "id": "042b31b8",
   "metadata": {},
   "outputs": [],
   "source": [
    "def date_to_ordinal(date_str):\n",
    "    date_obj = datetime.strptime(date_str, '%Y-%m-%d')\n",
    "    return date_obj.toordinal()\n",
    "\n",
    "tomorrow_date = '2024-06-08'\n",
    "date_ordinal = date_to_ordinal(tomorrow_date)"
   ]
  },
  {
   "cell_type": "code",
   "execution_count": 21,
   "id": "a8ff42b1",
   "metadata": {},
   "outputs": [],
   "source": [
    "# Create a new data point for tomorrow using historical averages or predictions\n",
    "# Example values: Using historical averages for simplicity\n",
    "new_data_point = pd.DataFrame({\n",
    "    'date_ordinal': [date_ordinal],\n",
    "    'open': [70759],  # Historical average or future prediction value\n",
    "    'low': [68507],   # Historical average or future prediction value\n",
    "    'close': [69342], # Historical average or future prediction value\n",
    "    'volume': [36188381096],   # Historical average or future prediction value\n",
    "    'marketCap': [1,366686633129] # Historical average or future prediction value\n",
    "})"
   ]
  },
  {
   "cell_type": "code",
   "execution_count": 22,
   "id": "d0b04381",
   "metadata": {},
   "outputs": [
    {
     "name": "stdout",
     "output_type": "stream",
     "text": [
      "Predicted 'high' for 2024-06-08: 69935.52253678488\n"
     ]
    }
   ],
   "source": [
    "predicted_high = model.predict(new_data_point)\n",
    "print(f\"Predicted 'high' for {tomorrow_date}: {predicted_high[0]}\")"
   ]
  },
  {
   "cell_type": "code",
   "execution_count": null,
   "id": "11163124",
   "metadata": {},
   "outputs": [],
   "source": []
  }
 ],
 "metadata": {
  "kernelspec": {
   "display_name": "Python 3 (ipykernel)",
   "language": "python",
   "name": "python3"
  },
  "language_info": {
   "codemirror_mode": {
    "name": "ipython",
    "version": 3
   },
   "file_extension": ".py",
   "mimetype": "text/x-python",
   "name": "python",
   "nbconvert_exporter": "python",
   "pygments_lexer": "ipython3",
   "version": "3.10.5"
  }
 },
 "nbformat": 4,
 "nbformat_minor": 5
}
